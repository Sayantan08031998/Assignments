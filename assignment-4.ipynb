{
 "cells": [
  {
   "cell_type": "code",
   "execution_count": null,
   "id": "971c39e4",
   "metadata": {},
   "outputs": [],
   "source": [
    "1. What exactly is []?"
   ]
  },
  {
   "cell_type": "code",
   "execution_count": null,
   "id": "f307dfb2",
   "metadata": {},
   "outputs": [],
   "source": [
    "its a sqaure bracket which is used to denote a list."
   ]
  },
  {
   "cell_type": "code",
   "execution_count": null,
   "id": "f949dcfe",
   "metadata": {},
   "outputs": [],
   "source": []
  },
  {
   "cell_type": "code",
   "execution_count": null,
   "id": "732ba8fe",
   "metadata": {},
   "outputs": [],
   "source": [
    "2. In a list of values stored in a variable called spam, how would you assign the value 'hello' as the\n",
    "third value? (Assume [2, 4, 6, 8, 10] are in spam.)"
   ]
  },
  {
   "cell_type": "code",
   "execution_count": 2,
   "id": "c06332ab",
   "metadata": {},
   "outputs": [
    {
     "data": {
      "text/plain": [
       "[2, 4, 'hello', 6, 8, 10]"
      ]
     },
     "execution_count": 2,
     "metadata": {},
     "output_type": "execute_result"
    }
   ],
   "source": [
    "spam=[2, 4, 6, 8, 10]\n",
    "spam.insert(2,'hello')\n",
    "spam"
   ]
  },
  {
   "cell_type": "code",
   "execution_count": null,
   "id": "e6cd4516",
   "metadata": {},
   "outputs": [],
   "source": []
  },
  {
   "cell_type": "code",
   "execution_count": null,
   "id": "36a0b846",
   "metadata": {},
   "outputs": [],
   "source": [
    "Let pretend the spam includes the list ['a','b','c','d'] for the next three queries."
   ]
  },
  {
   "cell_type": "code",
   "execution_count": null,
   "id": "dc4bfb0b",
   "metadata": {},
   "outputs": [],
   "source": [
    "3. What is the value of spam[int(int('3' * 2) / 11)]?"
   ]
  },
  {
   "cell_type": "code",
   "execution_count": 3,
   "id": "a8f64abf",
   "metadata": {},
   "outputs": [
    {
     "data": {
      "text/plain": [
       "6"
      ]
     },
     "execution_count": 3,
     "metadata": {},
     "output_type": "execute_result"
    }
   ],
   "source": [
    "spam[int(int('3' * 2) / 11)]"
   ]
  },
  {
   "cell_type": "code",
   "execution_count": null,
   "id": "2fa176d5",
   "metadata": {},
   "outputs": [],
   "source": []
  },
  {
   "cell_type": "code",
   "execution_count": null,
   "id": "36b3a0a6",
   "metadata": {},
   "outputs": [],
   "source": [
    "4. What is the value of spam[-1]?"
   ]
  },
  {
   "cell_type": "code",
   "execution_count": null,
   "id": "d8bd1f53",
   "metadata": {},
   "outputs": [],
   "source": [
    "'d'"
   ]
  },
  {
   "cell_type": "code",
   "execution_count": null,
   "id": "ba6b2e6b",
   "metadata": {},
   "outputs": [],
   "source": []
  },
  {
   "cell_type": "code",
   "execution_count": null,
   "id": "c7824fdd",
   "metadata": {},
   "outputs": [],
   "source": [
    "5. What is the value of spam[:2]?"
   ]
  },
  {
   "cell_type": "code",
   "execution_count": null,
   "id": "ea0c3134",
   "metadata": {},
   "outputs": [],
   "source": [
    "['a','b']"
   ]
  },
  {
   "cell_type": "code",
   "execution_count": null,
   "id": "b4e5b705",
   "metadata": {},
   "outputs": [],
   "source": []
  },
  {
   "cell_type": "code",
   "execution_count": null,
   "id": "9ab11170",
   "metadata": {},
   "outputs": [],
   "source": [
    "Let pretend bacon has the list [3.14, 'cat',11, 'cat', True] for the next three questions."
   ]
  },
  {
   "cell_type": "code",
   "execution_count": null,
   "id": "4dee247a",
   "metadata": {},
   "outputs": [],
   "source": [
    "What is the value of bacon.index('cat')?"
   ]
  },
  {
   "cell_type": "code",
   "execution_count": null,
   "id": "33135838",
   "metadata": {},
   "outputs": [],
   "source": [
    "the parenthisis is wrong so error in output"
   ]
  },
  {
   "cell_type": "code",
   "execution_count": null,
   "id": "48e20370",
   "metadata": {},
   "outputs": [],
   "source": []
  },
  {
   "cell_type": "code",
   "execution_count": null,
   "id": "273c7612",
   "metadata": {},
   "outputs": [],
   "source": [
    "How does bacon.append(99) change the look of the list value in bacon?"
   ]
  },
  {
   "cell_type": "code",
   "execution_count": null,
   "id": "cdfc61b5",
   "metadata": {},
   "outputs": [],
   "source": [
    "its will give error because of the parenthisis."
   ]
  },
  {
   "cell_type": "code",
   "execution_count": null,
   "id": "6f646680",
   "metadata": {},
   "outputs": [],
   "source": []
  },
  {
   "cell_type": "code",
   "execution_count": null,
   "id": "0405c7da",
   "metadata": {},
   "outputs": [],
   "source": [
    "8. How does bacon.remove('cat') change the look of the list in bacon?"
   ]
  },
  {
   "cell_type": "code",
   "execution_count": null,
   "id": "3a41267c",
   "metadata": {},
   "outputs": [],
   "source": [
    "nothing will change it will give error cecause of the parenthisis."
   ]
  },
  {
   "cell_type": "code",
   "execution_count": null,
   "id": "1aed0ca6",
   "metadata": {},
   "outputs": [],
   "source": []
  },
  {
   "cell_type": "code",
   "execution_count": null,
   "id": "513002d7",
   "metadata": {},
   "outputs": [],
   "source": [
    "9. What are the list concatenation and list replication operators?"
   ]
  },
  {
   "cell_type": "code",
   "execution_count": null,
   "id": "3a6079ed",
   "metadata": {},
   "outputs": [],
   "source": [
    "The operator for list concatenation is +, while the operator for replication is *."
   ]
  },
  {
   "cell_type": "code",
   "execution_count": null,
   "id": "9497ad18",
   "metadata": {},
   "outputs": [],
   "source": []
  },
  {
   "cell_type": "code",
   "execution_count": null,
   "id": "ab1ce705",
   "metadata": {},
   "outputs": [],
   "source": [
    "10. What is difference between the list methods append() and insert()?"
   ]
  },
  {
   "cell_type": "code",
   "execution_count": null,
   "id": "00cfd2de",
   "metadata": {},
   "outputs": [],
   "source": [
    "append()----its adds element at the end of the list and takes in only one argument\n",
    "\n",
    "insert()---- its takes in two argument. one is position where the value needs to be inserted and the second argument is the value which is to be inserted"
   ]
  },
  {
   "cell_type": "code",
   "execution_count": null,
   "id": "df98aabd",
   "metadata": {},
   "outputs": [],
   "source": []
  },
  {
   "cell_type": "code",
   "execution_count": null,
   "id": "bd6f9be4",
   "metadata": {},
   "outputs": [],
   "source": [
    "11. What are the two methods for removing items from a list?"
   ]
  },
  {
   "cell_type": "code",
   "execution_count": null,
   "id": "21c4c8c4",
   "metadata": {},
   "outputs": [],
   "source": [
    "one is list.pop() and the other one is list.remove()"
   ]
  },
  {
   "cell_type": "code",
   "execution_count": null,
   "id": "9c9fa0f8",
   "metadata": {},
   "outputs": [],
   "source": []
  },
  {
   "cell_type": "code",
   "execution_count": null,
   "id": "fb66994c",
   "metadata": {},
   "outputs": [],
   "source": [
    "12. Describe how list values and string values are identical."
   ]
  },
  {
   "cell_type": "code",
   "execution_count": null,
   "id": "0627bc8c",
   "metadata": {},
   "outputs": [],
   "source": [
    "List and string both are used to store value /data and both are sequence."
   ]
  },
  {
   "cell_type": "code",
   "execution_count": null,
   "id": "c2e34718",
   "metadata": {},
   "outputs": [],
   "source": []
  },
  {
   "cell_type": "code",
   "execution_count": null,
   "id": "1ee638f4",
   "metadata": {},
   "outputs": [],
   "source": [
    "13. Whats the difference between tuples and lists?"
   ]
  },
  {
   "cell_type": "code",
   "execution_count": null,
   "id": "44711d5b",
   "metadata": {},
   "outputs": [],
   "source": [
    "list are mutable while tuples are immutable\n",
    "list is quite slow than tuple in case of searching the elements\n",
    "list make use of varibale length array while tuple make use of fixed length array."
   ]
  },
  {
   "cell_type": "code",
   "execution_count": null,
   "id": "35e5c3c4",
   "metadata": {},
   "outputs": [],
   "source": []
  },
  {
   "cell_type": "code",
   "execution_count": null,
   "id": "e7ac6ad4",
   "metadata": {},
   "outputs": [],
   "source": [
    "14. How do you type a tuple value that only contains the integer 42?"
   ]
  },
  {
   "cell_type": "code",
   "execution_count": 15,
   "id": "9adb2097",
   "metadata": {},
   "outputs": [],
   "source": [
    "x=(42,)"
   ]
  },
  {
   "cell_type": "code",
   "execution_count": 16,
   "id": "0db57092",
   "metadata": {},
   "outputs": [
    {
     "data": {
      "text/plain": [
       "tuple"
      ]
     },
     "execution_count": 16,
     "metadata": {},
     "output_type": "execute_result"
    }
   ],
   "source": [
    "type(x)"
   ]
  },
  {
   "cell_type": "code",
   "execution_count": null,
   "id": "dfdac8f7",
   "metadata": {},
   "outputs": [],
   "source": []
  },
  {
   "cell_type": "code",
   "execution_count": null,
   "id": "6efe186c",
   "metadata": {},
   "outputs": [],
   "source": [
    "15. How do you get a list values tuple form? How do you get a tuple values list form?"
   ]
  },
  {
   "cell_type": "code",
   "execution_count": 21,
   "id": "f5f3b488",
   "metadata": {},
   "outputs": [
    {
     "name": "stdout",
     "output_type": "stream",
     "text": [
      "(1, 2, 3, 4, 5, 6)\n",
      "<class 'tuple'>\n"
     ]
    }
   ],
   "source": [
    "# list value in tuple form\n",
    "\n",
    "\n",
    "lst=[1,2,3,4,5,6]\n",
    "x=tuple(lst)\n",
    "print(x)\n",
    "print(type(x))"
   ]
  },
  {
   "cell_type": "code",
   "execution_count": 22,
   "id": "b74e40dc",
   "metadata": {},
   "outputs": [
    {
     "name": "stdout",
     "output_type": "stream",
     "text": [
      "[1, 2, 3, 4, 5, 6]\n",
      "<class 'list'>\n"
     ]
    }
   ],
   "source": [
    "# tuple value in list form\n",
    "\n",
    "\n",
    "tup=(1,2,3,4,5,6)\n",
    "x=list(tup)\n",
    "print(x)\n",
    "print(type(x))"
   ]
  },
  {
   "cell_type": "code",
   "execution_count": null,
   "id": "5064b7c7",
   "metadata": {},
   "outputs": [],
   "source": []
  },
  {
   "cell_type": "code",
   "execution_count": null,
   "id": "87589383",
   "metadata": {},
   "outputs": [],
   "source": [
    "16. Variables that 'contain' list values are not necessarily lists themselves. Instead, what do they\n",
    "contain?"
   ]
  },
  {
   "cell_type": "code",
   "execution_count": null,
   "id": "a7ecd8bd",
   "metadata": {},
   "outputs": [],
   "source": [
    "variables contain the reference where the list is stored in the form of array"
   ]
  },
  {
   "cell_type": "code",
   "execution_count": null,
   "id": "f0486ea6",
   "metadata": {},
   "outputs": [],
   "source": []
  },
  {
   "cell_type": "code",
   "execution_count": null,
   "id": "7fa3825e",
   "metadata": {},
   "outputs": [],
   "source": [
    "17. How do you distinguish between copy.copy() and copy.deepcopy()?"
   ]
  },
  {
   "cell_type": "code",
   "execution_count": null,
   "id": "6d6ac051",
   "metadata": {},
   "outputs": [],
   "source": [
    "in copy.copy() object reference are copied while in copy.deepcopy() objects are copied."
   ]
  }
 ],
 "metadata": {
  "kernelspec": {
   "display_name": "Python 3",
   "language": "python",
   "name": "python3"
  },
  "language_info": {
   "codemirror_mode": {
    "name": "ipython",
    "version": 3
   },
   "file_extension": ".py",
   "mimetype": "text/x-python",
   "name": "python",
   "nbconvert_exporter": "python",
   "pygments_lexer": "ipython3",
   "version": "3.8.8"
  }
 },
 "nbformat": 4,
 "nbformat_minor": 5
}
