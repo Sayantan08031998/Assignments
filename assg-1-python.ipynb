{
 "cells": [
  {
   "cell_type": "code",
   "execution_count": 3,
   "id": "c159bbea",
   "metadata": {},
   "outputs": [],
   "source": [
    "def func1():\n",
    "    '''program to print \"Hello Python\"'''\n",
    "    return \"Hello Python\""
   ]
  },
  {
   "cell_type": "code",
   "execution_count": 4,
   "id": "56832d9e",
   "metadata": {},
   "outputs": [
    {
     "data": {
      "text/plain": [
       "'Hello Python'"
      ]
     },
     "execution_count": 4,
     "metadata": {},
     "output_type": "execute_result"
    }
   ],
   "source": [
    "func1()"
   ]
  },
  {
   "cell_type": "code",
   "execution_count": 15,
   "id": "cb867fe6",
   "metadata": {},
   "outputs": [],
   "source": [
    "def func2():\n",
    "    '''program to do arithmatic addition and division'''\n",
    "    a = int(input())\n",
    "    b = int(input())\n",
    "    c = a+b\n",
    "    print(f\"the addition is : {c}\")\n",
    "    if b == 0 :\n",
    "        print(\"denominator cant be zero\")\n",
    "    else :\n",
    "        d =a/b\n",
    "        print(f\"the division is : {d}\")"
   ]
  },
  {
   "cell_type": "code",
   "execution_count": 17,
   "id": "e1a963ed",
   "metadata": {},
   "outputs": [
    {
     "name": "stdout",
     "output_type": "stream",
     "text": [
      "5\n",
      "10\n",
      "the addition is : 15\n",
      "the division is : 0.5\n"
     ]
    }
   ],
   "source": [
    "func2()"
   ]
  },
  {
   "cell_type": "code",
   "execution_count": 21,
   "id": "404b93e6",
   "metadata": {},
   "outputs": [],
   "source": [
    "def func3() :\n",
    "    '''program to swap two variables'''\n",
    "    a = int(input())\n",
    "    b = int(input())\n",
    "    a,b = b,a\n",
    "    return a,b"
   ]
  },
  {
   "cell_type": "code",
   "execution_count": 22,
   "id": "0db87fa4",
   "metadata": {},
   "outputs": [
    {
     "name": "stdout",
     "output_type": "stream",
     "text": [
      "10\n",
      "20\n"
     ]
    },
    {
     "data": {
      "text/plain": [
       "(20, 10)"
      ]
     },
     "execution_count": 22,
     "metadata": {},
     "output_type": "execute_result"
    }
   ],
   "source": [
    "func3()"
   ]
  },
  {
   "cell_type": "code",
   "execution_count": 23,
   "id": "8104cf53",
   "metadata": {},
   "outputs": [],
   "source": [
    "import random"
   ]
  },
  {
   "cell_type": "code",
   "execution_count": 30,
   "id": "c7822ea9",
   "metadata": {},
   "outputs": [],
   "source": [
    "def func4() :\n",
    "    '''program to generate a random number'''\n",
    "    c = int(input())\n",
    "    d = int(input())\n",
    "    a = random.randint(c,d)\n",
    "    return a"
   ]
  },
  {
   "cell_type": "code",
   "execution_count": 31,
   "id": "5d296695",
   "metadata": {},
   "outputs": [
    {
     "name": "stdout",
     "output_type": "stream",
     "text": [
      "100000\n",
      "200000000000\n"
     ]
    },
    {
     "data": {
      "text/plain": [
       "82554998331"
      ]
     },
     "execution_count": 31,
     "metadata": {},
     "output_type": "execute_result"
    }
   ],
   "source": [
    "func4()"
   ]
  },
  {
   "cell_type": "code",
   "execution_count": 45,
   "id": "ee6e5026",
   "metadata": {},
   "outputs": [],
   "source": [
    "def func5() :\n",
    "    '''program to find area of a triangle'''\n",
    "    a = int(input())\n",
    "    b = int(input())\n",
    "    c = int(input())\n",
    "    s = a+b+c/2\n",
    "    area = ( s * (s-a) * (s-b) * (s-c)) ** 0.5\n",
    "    return  area\n",
    "    "
   ]
  },
  {
   "cell_type": "code",
   "execution_count": 46,
   "id": "3354bc2d",
   "metadata": {},
   "outputs": [
    {
     "name": "stdout",
     "output_type": "stream",
     "text": [
      "3\n",
      "4\n",
      "5\n"
     ]
    },
    {
     "data": {
      "text/plain": [
       "39.093637589766445"
      ]
     },
     "execution_count": 46,
     "metadata": {},
     "output_type": "execute_result"
    }
   ],
   "source": [
    "func5()"
   ]
  },
  {
   "cell_type": "markdown",
   "id": "43948222",
   "metadata": {},
   "source": []
  }
 ],
 "metadata": {
  "kernelspec": {
   "display_name": "Python 3",
   "language": "python",
   "name": "python3"
  },
  "language_info": {
   "codemirror_mode": {
    "name": "ipython",
    "version": 3
   },
   "file_extension": ".py",
   "mimetype": "text/x-python",
   "name": "python",
   "nbconvert_exporter": "python",
   "pygments_lexer": "ipython3",
   "version": "3.8.8"
  }
 },
 "nbformat": 4,
 "nbformat_minor": 5
}
