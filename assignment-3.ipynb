{
 "cells": [
  {
   "cell_type": "code",
   "execution_count": null,
   "id": "dfeb2bb3",
   "metadata": {},
   "outputs": [],
   "source": [
    "1. Why are functions advantageous to have in your programs?"
   ]
  },
  {
   "cell_type": "code",
   "execution_count": null,
   "id": "7d38f56f",
   "metadata": {},
   "outputs": [],
   "source": [
    "Function are advantageous because it reduces the lines of code. We can simply import the module and call the function anywhere."
   ]
  },
  {
   "cell_type": "code",
   "execution_count": null,
   "id": "bbf3b248",
   "metadata": {},
   "outputs": [],
   "source": []
  },
  {
   "cell_type": "code",
   "execution_count": null,
   "id": "237ae3e0",
   "metadata": {},
   "outputs": [],
   "source": [
    "2. When does the code in a function run: when it specified or when it called?"
   ]
  },
  {
   "cell_type": "code",
   "execution_count": null,
   "id": "806b3044",
   "metadata": {},
   "outputs": [],
   "source": [
    "The code in a function run when it is called"
   ]
  },
  {
   "cell_type": "code",
   "execution_count": null,
   "id": "d0bf9785",
   "metadata": {},
   "outputs": [],
   "source": []
  },
  {
   "cell_type": "code",
   "execution_count": null,
   "id": "1376a38c",
   "metadata": {},
   "outputs": [],
   "source": [
    "3. What statement creates a function?"
   ]
  },
  {
   "cell_type": "code",
   "execution_count": null,
   "id": "dfe3686c",
   "metadata": {},
   "outputs": [],
   "source": [
    "def statement creates a function"
   ]
  },
  {
   "cell_type": "code",
   "execution_count": null,
   "id": "f0012d26",
   "metadata": {},
   "outputs": [],
   "source": []
  },
  {
   "cell_type": "code",
   "execution_count": null,
   "id": "d3b959d7",
   "metadata": {},
   "outputs": [],
   "source": [
    "4. What is the difference between a function and a function call?"
   ]
  },
  {
   "cell_type": "code",
   "execution_count": null,
   "id": "e9dd31bb",
   "metadata": {},
   "outputs": [],
   "source": [
    "Function is a block which contains code and a function call is a statement  where the function is called."
   ]
  },
  {
   "cell_type": "code",
   "execution_count": null,
   "id": "f19fd885",
   "metadata": {},
   "outputs": [],
   "source": []
  },
  {
   "cell_type": "code",
   "execution_count": null,
   "id": "61c5ea9c",
   "metadata": {},
   "outputs": [],
   "source": [
    "5. How many global scopes are there in a Python program? How many local scopes?"
   ]
  },
  {
   "cell_type": "code",
   "execution_count": null,
   "id": "e37ee860",
   "metadata": {},
   "outputs": [],
   "source": [
    "there is only 'one' global scope and 'one' local scope in python"
   ]
  },
  {
   "cell_type": "code",
   "execution_count": null,
   "id": "d030e156",
   "metadata": {},
   "outputs": [],
   "source": []
  },
  {
   "cell_type": "code",
   "execution_count": null,
   "id": "c6c378ff",
   "metadata": {},
   "outputs": [],
   "source": [
    "6. What happens to variables in a local scope when the function call returns?"
   ]
  },
  {
   "cell_type": "code",
   "execution_count": null,
   "id": "b052dd98",
   "metadata": {},
   "outputs": [],
   "source": [
    "the variable in a local scope gets 'destroyed' when the function call returns"
   ]
  },
  {
   "cell_type": "code",
   "execution_count": null,
   "id": "051ee840",
   "metadata": {},
   "outputs": [],
   "source": []
  },
  {
   "cell_type": "code",
   "execution_count": null,
   "id": "a4f9e825",
   "metadata": {},
   "outputs": [],
   "source": [
    "7. What is the concept of a return value? Is it possible to have a return value in an expression?"
   ]
  },
  {
   "cell_type": "code",
   "execution_count": null,
   "id": "6b4b4dd4",
   "metadata": {},
   "outputs": [],
   "source": [
    "return is used when we wants to return something(maybe a value or a string or anything) from a function\n",
    "\n",
    "yes its possible to return value in an expression"
   ]
  },
  {
   "cell_type": "code",
   "execution_count": null,
   "id": "606c241a",
   "metadata": {},
   "outputs": [],
   "source": []
  },
  {
   "cell_type": "code",
   "execution_count": null,
   "id": "c53721c4",
   "metadata": {},
   "outputs": [],
   "source": [
    "8. If a function does not have a return statement, what is the return value of a call to that function?"
   ]
  },
  {
   "cell_type": "code",
   "execution_count": null,
   "id": "19e550c1",
   "metadata": {},
   "outputs": [],
   "source": [
    "null"
   ]
  },
  {
   "cell_type": "code",
   "execution_count": null,
   "id": "6c368e34",
   "metadata": {},
   "outputs": [],
   "source": []
  },
  {
   "cell_type": "code",
   "execution_count": null,
   "id": "3c5c3b93",
   "metadata": {},
   "outputs": [],
   "source": [
    "9. How do you make a function variable refer to the global variable?"
   ]
  },
  {
   "cell_type": "code",
   "execution_count": null,
   "id": "05a5e993",
   "metadata": {},
   "outputs": [],
   "source": [
    "by using the keyword global beside the function variable"
   ]
  },
  {
   "cell_type": "code",
   "execution_count": null,
   "id": "1c34f261",
   "metadata": {},
   "outputs": [],
   "source": []
  },
  {
   "cell_type": "code",
   "execution_count": null,
   "id": "bf00878e",
   "metadata": {},
   "outputs": [],
   "source": [
    "10. What is the data type of None?"
   ]
  },
  {
   "cell_type": "code",
   "execution_count": null,
   "id": "2026a4c4",
   "metadata": {},
   "outputs": [],
   "source": [
    "its NoneType"
   ]
  },
  {
   "cell_type": "code",
   "execution_count": 1,
   "id": "4842a0c9",
   "metadata": {},
   "outputs": [
    {
     "data": {
      "text/plain": [
       "NoneType"
      ]
     },
     "execution_count": 1,
     "metadata": {},
     "output_type": "execute_result"
    }
   ],
   "source": [
    "type(None)"
   ]
  },
  {
   "cell_type": "code",
   "execution_count": null,
   "id": "7b493d4a",
   "metadata": {},
   "outputs": [],
   "source": []
  },
  {
   "cell_type": "code",
   "execution_count": null,
   "id": "157a4edf",
   "metadata": {},
   "outputs": [],
   "source": [
    "11. What does the sentence import areallyourpetsnamederic do?"
   ]
  },
  {
   "cell_type": "code",
   "execution_count": null,
   "id": "975f6294",
   "metadata": {},
   "outputs": [],
   "source": [
    "It imports a module name  'areallyourpetsnamederic'."
   ]
  },
  {
   "cell_type": "code",
   "execution_count": null,
   "id": "a04c3072",
   "metadata": {},
   "outputs": [],
   "source": [
    "12. If you had a bacon() feature in a spam module, what would you call it after importing spam?"
   ]
  },
  {
   "cell_type": "code",
   "execution_count": null,
   "id": "c61b645b",
   "metadata": {},
   "outputs": [],
   "source": [
    "import spam\n",
    "spam.bacon()"
   ]
  },
  {
   "cell_type": "code",
   "execution_count": null,
   "id": "a290b341",
   "metadata": {},
   "outputs": [],
   "source": []
  },
  {
   "cell_type": "code",
   "execution_count": null,
   "id": "ce852589",
   "metadata": {},
   "outputs": [],
   "source": [
    "13. What can you do to save a programme from crashing if it encounters an error?"
   ]
  },
  {
   "cell_type": "code",
   "execution_count": null,
   "id": "567d204c",
   "metadata": {},
   "outputs": [],
   "source": [
    "By throwing it into try except block."
   ]
  },
  {
   "cell_type": "code",
   "execution_count": null,
   "id": "2bdf12b3",
   "metadata": {},
   "outputs": [],
   "source": []
  },
  {
   "cell_type": "code",
   "execution_count": null,
   "id": "80698a8d",
   "metadata": {},
   "outputs": [],
   "source": [
    "14. What is the purpose of the try clause? What is the purpose of the except clause?"
   ]
  },
  {
   "cell_type": "code",
   "execution_count": null,
   "id": "12833be3",
   "metadata": {},
   "outputs": [],
   "source": [
    "try\n",
    "\n",
    "its a block where we keep all the codes and testing is done for error.its dosent execute once it finds some error.\n",
    "\n",
    "except\n",
    "\n",
    "its a block that gets execeuted  to handled the error by user response code and to prevent the code from crashing."
   ]
  }
 ],
 "metadata": {
  "kernelspec": {
   "display_name": "Python 3",
   "language": "python",
   "name": "python3"
  },
  "language_info": {
   "codemirror_mode": {
    "name": "ipython",
    "version": 3
   },
   "file_extension": ".py",
   "mimetype": "text/x-python",
   "name": "python",
   "nbconvert_exporter": "python",
   "pygments_lexer": "ipython3",
   "version": "3.8.8"
  }
 },
 "nbformat": 4,
 "nbformat_minor": 5
}
