{
 "cells": [
  {
   "cell_type": "raw",
   "id": "3f5441fb",
   "metadata": {},
   "source": [
    "1. In the below elements which of them are values or an expression? eg:- values can be integer or string and expressions will be mathematical operators.\n",
    "\n",
    "\n",
    "\n",
    "\n",
    "* \n",
    "'hello'\n",
    "-87.8\n",
    "- \n",
    "/ \n",
    "\t•\t\n",
    "6 "
   ]
  },
  {
   "cell_type": "raw",
   "id": "5b3eb008",
   "metadata": {},
   "source": [
    "* ------expression\n",
    "\n",
    "\n",
    "'hello'----variable\n",
    "\n",
    "\n",
    "-87.8-----variable\n",
    "\n",
    "\n",
    "-  -----expression\n",
    "\n",
    "\n",
    "/  -----expression\n",
    "\n",
    "\n",
    "\t• -----expression\n",
    "    \n",
    "    \n",
    "6 -----variable "
   ]
  },
  {
   "cell_type": "code",
   "execution_count": null,
   "id": "4c06bc1f",
   "metadata": {},
   "outputs": [],
   "source": []
  },
  {
   "cell_type": "raw",
   "id": "f575c09b",
   "metadata": {},
   "source": [
    "2. What is the difference between string and variable?"
   ]
  },
  {
   "cell_type": "raw",
   "id": "eebb4105",
   "metadata": {},
   "source": [
    "String\n",
    "\n",
    "A string is a collection of alphabets.\n",
    "s=\"sayantan\"\n",
    "here in the above example 's' is a string which contains a group of alphabet 'sayantan'\n",
    "\n",
    "Variable\n",
    "\n",
    "A variable is something that contains value which can change continuously.\n",
    "for example 4x+7=0\n",
    "here in the above example 'x' is a variable which can take any value from '-infinity' to '+infinity' (if range is not mentioned)"
   ]
  },
  {
   "cell_type": "code",
   "execution_count": null,
   "id": "7eb5c15c",
   "metadata": {},
   "outputs": [],
   "source": []
  },
  {
   "cell_type": "raw",
   "id": "8b4d2949",
   "metadata": {},
   "source": [
    "3. Describe three different data types."
   ]
  },
  {
   "cell_type": "raw",
   "id": "5d7c0e22",
   "metadata": {},
   "source": [
    ">.List\n",
    "\n",
    "List is one of the data types in python which can be used to hold both homogenous and heterogenous data and its mutable in nature.List uses third bracket\"[ ]\" to hold the datas.\n",
    "\n",
    ">.Tuple\n",
    "\n",
    "Tuple is one of the data types in python which can be used to hold both homogenous and heterogenous data and its immutable in nature.Tuple uses first bracket\"( )\" to hold the datas.\n",
    "\n",
    ">.Dictionary\n",
    "\n",
    "Dictionary is one of the data types in python which can be used to hold both homogenous and heterogenous data and its mutable in nature.It uses key-value pairs. It uses third bracket\"[ ]\" to hold the datas similar to list.\n"
   ]
  },
  {
   "cell_type": "code",
   "execution_count": null,
   "id": "45a33edb",
   "metadata": {},
   "outputs": [],
   "source": []
  },
  {
   "cell_type": "raw",
   "id": "3404423d",
   "metadata": {},
   "source": [
    "4. What is an expression made up of? What do all expressions do?"
   ]
  },
  {
   "cell_type": "raw",
   "id": "b4deaadc",
   "metadata": {},
   "source": [
    "An expression is a combination of variable and operator .\n",
    "ex. x+2\n",
    "An expression is evaluated and compiled and based on this the output or the result is displayed"
   ]
  },
  {
   "cell_type": "code",
   "execution_count": null,
   "id": "d4ea8a3d",
   "metadata": {},
   "outputs": [],
   "source": []
  },
  {
   "cell_type": "raw",
   "id": "ed37d7d7",
   "metadata": {},
   "source": [
    "5. This assignment statements, like spam = 10. What is the difference between an expression and a statement?"
   ]
  },
  {
   "cell_type": "raw",
   "id": "63ecd4b9",
   "metadata": {},
   "source": [
    "Expression evaluates  to a value  while statement  does something\n",
    "\n",
    "ex x+10---expression\n",
    "\n",
    "u=x+10 ----statement"
   ]
  },
  {
   "cell_type": "code",
   "execution_count": null,
   "id": "1b956180",
   "metadata": {},
   "outputs": [],
   "source": []
  },
  {
   "cell_type": "code",
   "execution_count": 1,
   "id": "bd8c1ca1",
   "metadata": {},
   "outputs": [
    {
     "data": {
      "text/plain": [
       "23"
      ]
     },
     "execution_count": 1,
     "metadata": {},
     "output_type": "execute_result"
    }
   ],
   "source": [
    "bacon=22\n",
    "bacon+1"
   ]
  },
  {
   "cell_type": "raw",
   "id": "da3afacb",
   "metadata": {},
   "source": [
    "6. After running the following code, what does the variable bacon contain?\n",
    "bacon = 22\n",
    "bacon + 1"
   ]
  },
  {
   "cell_type": "raw",
   "id": "9565b6b7",
   "metadata": {},
   "source": [
    "variable bacon contain the value 23"
   ]
  },
  {
   "cell_type": "code",
   "execution_count": null,
   "id": "3bb6cd79",
   "metadata": {},
   "outputs": [],
   "source": []
  },
  {
   "cell_type": "raw",
   "id": "ea40e313",
   "metadata": {},
   "source": [
    "7. What should the values of the following two terms be?\n",
    "'spam' + 'spamspam'\n",
    "'spam' * 3"
   ]
  },
  {
   "cell_type": "raw",
   "id": "0ac6923a",
   "metadata": {},
   "source": [
    "the values for both the term will be 'spamspamspam'"
   ]
  },
  {
   "cell_type": "code",
   "execution_count": null,
   "id": "231d1bde",
   "metadata": {},
   "outputs": [],
   "source": []
  },
  {
   "cell_type": "raw",
   "id": "c8c018aa",
   "metadata": {},
   "source": [
    "8. Why is eggs a valid variable name while 100 is invalid?"
   ]
  },
  {
   "cell_type": "raw",
   "id": "a5339d39",
   "metadata": {},
   "source": [
    "eggs is  valid variable while 100 is not because variable doesnt starts with number."
   ]
  },
  {
   "cell_type": "code",
   "execution_count": null,
   "id": "e1d411ee",
   "metadata": {},
   "outputs": [],
   "source": []
  },
  {
   "cell_type": "raw",
   "id": "3254f974",
   "metadata": {},
   "source": [
    "9. What three functions can be used to get the integer, floating-point number, or string version of a value?"
   ]
  },
  {
   "cell_type": "raw",
   "id": "d5bbe90b",
   "metadata": {},
   "source": [
    " To get the integer, floating-point number, or string version of a value we can use int(), float() and str().\n",
    " "
   ]
  },
  {
   "cell_type": "code",
   "execution_count": null,
   "id": "afe8a979",
   "metadata": {},
   "outputs": [],
   "source": []
  },
  {
   "cell_type": "raw",
   "id": "cb5dc855",
   "metadata": {},
   "source": [
    "10. Why does this expression cause an error? How can you fix it?\n",
    "'I have eaten ' + 99 + ' burritos.'"
   ]
  },
  {
   "cell_type": "raw",
   "id": "7ac2eb80",
   "metadata": {},
   "source": [
    "Error is comming because we cant concatenate between a string and a interger .Concatenation is possible between string only\n",
    "\n",
    "solution--given below along with output"
   ]
  },
  {
   "cell_type": "code",
   "execution_count": 16,
   "id": "1a6689c1",
   "metadata": {},
   "outputs": [
    {
     "data": {
      "text/plain": [
       "'I have eaten 99 burritos.'"
      ]
     },
     "execution_count": 16,
     "metadata": {},
     "output_type": "execute_result"
    }
   ],
   "source": [
    "'I have eaten ' + '99' + ' burritos.'"
   ]
  },
  {
   "cell_type": "code",
   "execution_count": null,
   "id": "345d4735",
   "metadata": {},
   "outputs": [],
   "source": []
  }
 ],
 "metadata": {
  "kernelspec": {
   "display_name": "Python 3",
   "language": "python",
   "name": "python3"
  },
  "language_info": {
   "codemirror_mode": {
    "name": "ipython",
    "version": 3
   },
   "file_extension": ".py",
   "mimetype": "text/x-python",
   "name": "python",
   "nbconvert_exporter": "python",
   "pygments_lexer": "ipython3",
   "version": "3.8.8"
  }
 },
 "nbformat": 4,
 "nbformat_minor": 5
}
